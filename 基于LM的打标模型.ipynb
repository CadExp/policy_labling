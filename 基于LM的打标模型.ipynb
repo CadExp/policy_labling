{
 "cells": [
  {
   "cell_type": "code",
   "execution_count": 7,
   "id": "59ce761c",
   "metadata": {},
   "outputs": [],
   "source": [
    "import json\n",
    "with open(\"./policy_labels.json\", \"r\") as f:\n",
    "    label_json = json.load(f)\n",
    "with open(\"label.txt\", \"w\") as f:\n",
    "    labels = [i[\"name\"] for i in label_json[\"data\"]]\n",
    "    for label in labels:\n",
    "        f.write(label + \"\\n\")"
   ]
  },
  {
   "cell_type": "code",
   "execution_count": 8,
   "id": "295bb4c1",
   "metadata": {},
   "outputs": [
    {
     "data": {
      "text/plain": [
       "['财税扶持', '资质认定', '资金补贴', '人才激励', '课题项目', '政府采购', '赛事活动']"
      ]
     },
     "execution_count": 8,
     "metadata": {},
     "output_type": "execute_result"
    }
   ],
   "source": [
    "labels"
   ]
  },
  {
   "cell_type": "code",
   "execution_count": 9,
   "id": "821e81b3",
   "metadata": {},
   "outputs": [],
   "source": [
    "idx2label = {i: labels[i] for i in range(len(labels))}\n",
    "label2idx = {labels[i]:i for i in range(len(labels))}"
   ]
  },
  {
   "cell_type": "code",
   "execution_count": null,
   "id": "cc52bfa7",
   "metadata": {},
   "outputs": [],
   "source": []
  },
  {
   "cell_type": "code",
   "execution_count": null,
   "id": "904429df",
   "metadata": {},
   "outputs": [],
   "source": []
  },
  {
   "cell_type": "code",
   "execution_count": null,
   "id": "0daf6dd1",
   "metadata": {},
   "outputs": [],
   "source": []
  },
  {
   "cell_type": "code",
   "execution_count": 1,
   "id": "029ec906",
   "metadata": {},
   "outputs": [],
   "source": [
    "import openpyxl\n",
    "from data import load_xlsx_as_dataframe"
   ]
  },
  {
   "cell_type": "code",
   "execution_count": 2,
   "id": "5ec00fc3",
   "metadata": {},
   "outputs": [
    {
     "data": {
      "text/html": [
       "<div>\n",
       "<style scoped>\n",
       "    .dataframe tbody tr th:only-of-type {\n",
       "        vertical-align: middle;\n",
       "    }\n",
       "\n",
       "    .dataframe tbody tr th {\n",
       "        vertical-align: top;\n",
       "    }\n",
       "\n",
       "    .dataframe thead th {\n",
       "        text-align: right;\n",
       "    }\n",
       "</style>\n",
       "<table border=\"1\" class=\"dataframe\">\n",
       "  <thead>\n",
       "    <tr style=\"text-align: right;\">\n",
       "      <th></th>\n",
       "      <th>title</th>\n",
       "      <th>content</th>\n",
       "      <th>new_label</th>\n",
       "    </tr>\n",
       "  </thead>\n",
       "  <tbody>\n",
       "    <tr>\n",
       "      <th>0</th>\n",
       "      <td>内蒙古自治区发展和改革委员会关于公开2020年度本级和所属各单位决算信息的函</td>\n",
       "      <td>内蒙古自治区发展和改革委员会关于公开2020年度本级和所属各单位决算信息的函\\n来源：\\n内...</td>\n",
       "      <td>None</td>\n",
       "    </tr>\n",
       "    <tr>\n",
       "      <th>1</th>\n",
       "      <td>内蒙古自治区发展和改革委员会关于征求《内蒙古自治区关于加快推进快递包装绿色转型的若干措施（征...</td>\n",
       "      <td>内蒙古自治区发展和改革委员会关于征求《内蒙古自治区关于加快推进快递包装绿色转型的若干措施（征...</td>\n",
       "      <td>None</td>\n",
       "    </tr>\n",
       "    <tr>\n",
       "      <th>2</th>\n",
       "      <td>鄂尔多斯市蒙元煤炭有限公司点石沟铁路专用线项目核准咨询评估服务中标（成交）结果公告</td>\n",
       "      <td>鄂尔多斯市蒙元煤炭有限公司点石沟铁路专用线项目核准咨询评估服务中标（成交）结果公告\\n来源：...</td>\n",
       "      <td>None</td>\n",
       "    </tr>\n",
       "    <tr>\n",
       "      <th>3</th>\n",
       "      <td>新建内蒙古吉林郭勒矿区铁路专用线项目咨询评估服务中标（成交）结果公告</td>\n",
       "      <td>新建内蒙古吉林郭勒矿区铁路专用线项目咨询评估服务中标（成交）结果公告\\n来源：\\n内蒙古自治...</td>\n",
       "      <td>None</td>\n",
       "    </tr>\n",
       "    <tr>\n",
       "      <th>4</th>\n",
       "      <td>达拉特粮食综合物资仓储加工物流园铁路专用线项目咨询评估服务中标（成交）结果公告</td>\n",
       "      <td>达拉特粮食综合物资仓储加工物流园铁路专用线项目咨询评估服务中标（成交）结果公告\\n来源：\\n...</td>\n",
       "      <td>None</td>\n",
       "    </tr>\n",
       "    <tr>\n",
       "      <th>...</th>\n",
       "      <td>...</td>\n",
       "      <td>...</td>\n",
       "      <td>...</td>\n",
       "    </tr>\n",
       "    <tr>\n",
       "      <th>21270</th>\n",
       "      <td>关于外商投资企业分支机构办理注册税务登记及申报纳税地点问题的复函</td>\n",
       "      <td>2003年第50期（总第366期）\\n您现在的位置\\n政府公报\\n&gt;\\n2003年政府公报\\...</td>\n",
       "      <td>财税扶持</td>\n",
       "    </tr>\n",
       "    <tr>\n",
       "      <th>21271</th>\n",
       "      <td>关于新版纳税申报表使用范围补充规定的通知</td>\n",
       "      <td>2003年第50期（总第366期）\\n您现在的位置\\n政府公报\\n&gt;\\n2003年政府公报\\...</td>\n",
       "      <td>财税扶持</td>\n",
       "    </tr>\n",
       "    <tr>\n",
       "      <th>21272</th>\n",
       "      <td>关于组织推荐国家重点研发计划“海洋环境安全保障与岛礁可持续发展”重点专项2021年度项目申报的通知</td>\n",
       "      <td>&lt;!--&lt;$[信息内容]&gt;begin--&gt;各有关单位：根据科技部《关于发布国家重点研发计划“...</td>\n",
       "      <td>None</td>\n",
       "    </tr>\n",
       "    <tr>\n",
       "      <th>21273</th>\n",
       "      <td>北京市妇联等八部门关于印发《科技创新巾帼行动—北京行动》的通知</td>\n",
       "      <td>&lt;!--&lt;$[信息内容]&gt;begin--&gt;京妇发〔2021〕9号北京市妇联等八部门关于印发《...</td>\n",
       "      <td>None</td>\n",
       "    </tr>\n",
       "    <tr>\n",
       "      <th>21274</th>\n",
       "      <td>关于征集2021年度中关村知识产权质押融资风险补偿支持资金项目的通知</td>\n",
       "      <td>&lt;!--&lt;$[信息内容]&gt;begin--&gt;各有关单位：根据《关于建立实施中关村知识产权质押融...</td>\n",
       "      <td>None</td>\n",
       "    </tr>\n",
       "  </tbody>\n",
       "</table>\n",
       "<p>21275 rows × 3 columns</p>\n",
       "</div>"
      ],
      "text/plain": [
       "                                                   title  \\\n",
       "0                 内蒙古自治区发展和改革委员会关于公开2020年度本级和所属各单位决算信息的函   \n",
       "1      内蒙古自治区发展和改革委员会关于征求《内蒙古自治区关于加快推进快递包装绿色转型的若干措施（征...   \n",
       "2              鄂尔多斯市蒙元煤炭有限公司点石沟铁路专用线项目核准咨询评估服务中标（成交）结果公告   \n",
       "3                     新建内蒙古吉林郭勒矿区铁路专用线项目咨询评估服务中标（成交）结果公告   \n",
       "4                达拉特粮食综合物资仓储加工物流园铁路专用线项目咨询评估服务中标（成交）结果公告   \n",
       "...                                                  ...   \n",
       "21270                   关于外商投资企业分支机构办理注册税务登记及申报纳税地点问题的复函   \n",
       "21271                               关于新版纳税申报表使用范围补充规定的通知   \n",
       "21272  关于组织推荐国家重点研发计划“海洋环境安全保障与岛礁可持续发展”重点专项2021年度项目申报的通知   \n",
       "21273                    北京市妇联等八部门关于印发《科技创新巾帼行动—北京行动》的通知   \n",
       "21274                 关于征集2021年度中关村知识产权质押融资风险补偿支持资金项目的通知   \n",
       "\n",
       "                                                 content new_label  \n",
       "0      内蒙古自治区发展和改革委员会关于公开2020年度本级和所属各单位决算信息的函\\n来源：\\n内...      None  \n",
       "1      内蒙古自治区发展和改革委员会关于征求《内蒙古自治区关于加快推进快递包装绿色转型的若干措施（征...      None  \n",
       "2      鄂尔多斯市蒙元煤炭有限公司点石沟铁路专用线项目核准咨询评估服务中标（成交）结果公告\\n来源：...      None  \n",
       "3      新建内蒙古吉林郭勒矿区铁路专用线项目咨询评估服务中标（成交）结果公告\\n来源：\\n内蒙古自治...      None  \n",
       "4      达拉特粮食综合物资仓储加工物流园铁路专用线项目咨询评估服务中标（成交）结果公告\\n来源：\\n...      None  \n",
       "...                                                  ...       ...  \n",
       "21270  2003年第50期（总第366期）\\n您现在的位置\\n政府公报\\n>\\n2003年政府公报\\...      财税扶持  \n",
       "21271  2003年第50期（总第366期）\\n您现在的位置\\n政府公报\\n>\\n2003年政府公报\\...      财税扶持  \n",
       "21272  <!--<$[信息内容]>begin-->各有关单位：根据科技部《关于发布国家重点研发计划“...      None  \n",
       "21273  <!--<$[信息内容]>begin-->京妇发〔2021〕9号北京市妇联等八部门关于印发《...      None  \n",
       "21274  <!--<$[信息内容]>begin-->各有关单位：根据《关于建立实施中关村知识产权质押融...      None  \n",
       "\n",
       "[21275 rows x 3 columns]"
      ]
     },
     "execution_count": 2,
     "metadata": {},
     "output_type": "execute_result"
    }
   ],
   "source": [
    "df = load_xlsx_as_dataframe(\"data.xlsx\")\n",
    "df"
   ]
  },
  {
   "cell_type": "code",
   "execution_count": 4,
   "id": "1bb92966",
   "metadata": {},
   "outputs": [
    {
     "data": {
      "text/html": [
       "<div>\n",
       "<style scoped>\n",
       "    .dataframe tbody tr th:only-of-type {\n",
       "        vertical-align: middle;\n",
       "    }\n",
       "\n",
       "    .dataframe tbody tr th {\n",
       "        vertical-align: top;\n",
       "    }\n",
       "\n",
       "    .dataframe thead th {\n",
       "        text-align: right;\n",
       "    }\n",
       "</style>\n",
       "<table border=\"1\" class=\"dataframe\">\n",
       "  <thead>\n",
       "    <tr style=\"text-align: right;\">\n",
       "      <th></th>\n",
       "      <th>title</th>\n",
       "      <th>content</th>\n",
       "      <th>new_label</th>\n",
       "    </tr>\n",
       "  </thead>\n",
       "  <tbody>\n",
       "    <tr>\n",
       "      <th>58</th>\n",
       "      <td>政府采购投诉处理决定书</td>\n",
       "      <td>政府采购投诉处理决定书\\n2021-08-27\\n来源：本网原创稿\\n粤财采决〔2021〕1...</td>\n",
       "      <td>政府采购</td>\n",
       "    </tr>\n",
       "    <tr>\n",
       "      <th>132</th>\n",
       "      <td>test1231</td>\n",
       "      <td>123</td>\n",
       "      <td>资质认定</td>\n",
       "    </tr>\n",
       "    <tr>\n",
       "      <th>159</th>\n",
       "      <td>政府采购投诉终止处理告知函</td>\n",
       "      <td>政府采购投诉终止处理告知函\\n2021-08-04\\n来源：本网原创稿\\n粤财采购函〔202...</td>\n",
       "      <td>政府采购</td>\n",
       "    </tr>\n",
       "    <tr>\n",
       "      <th>192</th>\n",
       "      <td>广东省财政厅关于开展省级政府采购代理机构2021年度监督评价工作的通知</td>\n",
       "      <td>广东省财政厅关于开展省级政府采购代理机构2021年度监督评价工作的通知\\n2021-07-2...</td>\n",
       "      <td>政府采购</td>\n",
       "    </tr>\n",
       "    <tr>\n",
       "      <th>698</th>\n",
       "      <td>test2020</td>\n",
       "      <td>123</td>\n",
       "      <td>资质认定</td>\n",
       "    </tr>\n",
       "    <tr>\n",
       "      <th>...</th>\n",
       "      <td>...</td>\n",
       "      <td>...</td>\n",
       "      <td>...</td>\n",
       "    </tr>\n",
       "    <tr>\n",
       "      <th>21267</th>\n",
       "      <td>关于进一步明确职称评审申报材料报送权限的通知</td>\n",
       "      <td>2003年第43期（总第359期）\\n您现在的位置\\n政府公报\\n&gt;\\n2003年政府公报\\...</td>\n",
       "      <td>人才激励</td>\n",
       "    </tr>\n",
       "    <tr>\n",
       "      <th>21268</th>\n",
       "      <td>关于新建或购置新建的房屋申报免税问题的通知</td>\n",
       "      <td>2003年第50期（总第366期）\\n您现在的位置\\n政府公报\\n&gt;\\n2003年政府公报\\...</td>\n",
       "      <td>财税扶持</td>\n",
       "    </tr>\n",
       "    <tr>\n",
       "      <th>21269</th>\n",
       "      <td>关于启用九九版企业所得税纳税申报表的通知</td>\n",
       "      <td>2003年第50期（总第366期）\\n您现在的位置\\n政府公报\\n&gt;\\n2003年政府公报\\...</td>\n",
       "      <td>资质认定</td>\n",
       "    </tr>\n",
       "    <tr>\n",
       "      <th>21270</th>\n",
       "      <td>关于外商投资企业分支机构办理注册税务登记及申报纳税地点问题的复函</td>\n",
       "      <td>2003年第50期（总第366期）\\n您现在的位置\\n政府公报\\n&gt;\\n2003年政府公报\\...</td>\n",
       "      <td>财税扶持</td>\n",
       "    </tr>\n",
       "    <tr>\n",
       "      <th>21271</th>\n",
       "      <td>关于新版纳税申报表使用范围补充规定的通知</td>\n",
       "      <td>2003年第50期（总第366期）\\n您现在的位置\\n政府公报\\n&gt;\\n2003年政府公报\\...</td>\n",
       "      <td>财税扶持</td>\n",
       "    </tr>\n",
       "  </tbody>\n",
       "</table>\n",
       "<p>7643 rows × 3 columns</p>\n",
       "</div>"
      ],
      "text/plain": [
       "                                     title  \\\n",
       "58                             政府采购投诉处理决定书   \n",
       "132                               test1231   \n",
       "159                          政府采购投诉终止处理告知函   \n",
       "192    广东省财政厅关于开展省级政府采购代理机构2021年度监督评价工作的通知   \n",
       "698                               test2020   \n",
       "...                                    ...   \n",
       "21267               关于进一步明确职称评审申报材料报送权限的通知   \n",
       "21268                关于新建或购置新建的房屋申报免税问题的通知   \n",
       "21269                 关于启用九九版企业所得税纳税申报表的通知   \n",
       "21270     关于外商投资企业分支机构办理注册税务登记及申报纳税地点问题的复函   \n",
       "21271                 关于新版纳税申报表使用范围补充规定的通知   \n",
       "\n",
       "                                                 content new_label  \n",
       "58     政府采购投诉处理决定书\\n2021-08-27\\n来源：本网原创稿\\n粤财采决〔2021〕1...      政府采购  \n",
       "132                                                  123      资质认定  \n",
       "159    政府采购投诉终止处理告知函\\n2021-08-04\\n来源：本网原创稿\\n粤财采购函〔202...      政府采购  \n",
       "192    广东省财政厅关于开展省级政府采购代理机构2021年度监督评价工作的通知\\n2021-07-2...      政府采购  \n",
       "698                                                  123      资质认定  \n",
       "...                                                  ...       ...  \n",
       "21267  2003年第43期（总第359期）\\n您现在的位置\\n政府公报\\n>\\n2003年政府公报\\...      人才激励  \n",
       "21268  2003年第50期（总第366期）\\n您现在的位置\\n政府公报\\n>\\n2003年政府公报\\...      财税扶持  \n",
       "21269  2003年第50期（总第366期）\\n您现在的位置\\n政府公报\\n>\\n2003年政府公报\\...      资质认定  \n",
       "21270  2003年第50期（总第366期）\\n您现在的位置\\n政府公报\\n>\\n2003年政府公报\\...      财税扶持  \n",
       "21271  2003年第50期（总第366期）\\n您现在的位置\\n政府公报\\n>\\n2003年政府公报\\...      财税扶持  \n",
       "\n",
       "[7643 rows x 3 columns]"
      ]
     },
     "execution_count": 4,
     "metadata": {},
     "output_type": "execute_result"
    }
   ],
   "source": [
    "dataset = df[df[\"new_label\"].isnull() == False]\n",
    "dataset"
   ]
  },
  {
   "cell_type": "code",
   "execution_count": 18,
   "id": "22fa57fc",
   "metadata": {},
   "outputs": [],
   "source": [
    "dataset = df[df[\"new_label\"].isnull() == False]\n",
    "\n",
    "\n",
    "train_ratio = 0.8\n",
    "idxs = [i for i in range(len(dataset))]\n",
    "import random\n",
    "random.shuffle(idxs)\n",
    "\n",
    "train_len = int(len(dataset) * train_ratio)\n",
    "\n",
    "train_idxs = idxs[:train_len]\n",
    "test_idxs = idxs[train_len:]\n",
    "\n",
    "train_dataset = dataset.iloc[train_idxs][[\"new_label\",\"content\"]]\n",
    "test_dataset = dataset.iloc[test_idxs][[\"new_label\",\"content\"]]\n",
    "\n",
    "train_dataset.columns = [\"label\", \"text\"]\n",
    "test_dataset.columns = [\"label\", \"text\"]\n",
    "\n",
    "todo_dataset = df[df[\"new_label\"].isnull()][[\"content\"]]\n",
    "todo_dataset.columns = [\"text\"]"
   ]
  },
  {
   "cell_type": "code",
   "execution_count": 19,
   "id": "fc5091e8",
   "metadata": {},
   "outputs": [],
   "source": [
    "train_dataset.to_csv(\"train.csv\", index=None)\n",
    "test_dataset.to_csv(\"dev.csv\", index=None)\n",
    "todo_dataset.to_csv(\"test.csv\", index=None)"
   ]
  },
  {
   "cell_type": "code",
   "execution_count": 12,
   "id": "71ddd00a",
   "metadata": {},
   "outputs": [
    {
     "data": {
      "text/html": [
       "<div>\n",
       "<style scoped>\n",
       "    .dataframe tbody tr th:only-of-type {\n",
       "        vertical-align: middle;\n",
       "    }\n",
       "\n",
       "    .dataframe tbody tr th {\n",
       "        vertical-align: top;\n",
       "    }\n",
       "\n",
       "    .dataframe thead th {\n",
       "        text-align: right;\n",
       "    }\n",
       "</style>\n",
       "<table border=\"1\" class=\"dataframe\">\n",
       "  <thead>\n",
       "    <tr style=\"text-align: right;\">\n",
       "      <th></th>\n",
       "      <th>title</th>\n",
       "      <th>content</th>\n",
       "      <th>new_label</th>\n",
       "    </tr>\n",
       "  </thead>\n",
       "  <tbody>\n",
       "    <tr>\n",
       "      <th>58</th>\n",
       "      <td>政府采购投诉处理决定书</td>\n",
       "      <td>政府采购投诉处理决定书\\n2021-08-27\\n来源：本网原创稿\\n粤财采决〔2021〕1...</td>\n",
       "      <td>政府采购</td>\n",
       "    </tr>\n",
       "    <tr>\n",
       "      <th>132</th>\n",
       "      <td>test1231</td>\n",
       "      <td>123</td>\n",
       "      <td>资质认定</td>\n",
       "    </tr>\n",
       "  </tbody>\n",
       "</table>\n",
       "</div>"
      ],
      "text/plain": [
       "           title                                            content new_label\n",
       "58   政府采购投诉处理决定书  政府采购投诉处理决定书\\n2021-08-27\\n来源：本网原创稿\\n粤财采决〔2021〕1...      政府采购\n",
       "132     test1231                                                123      资质认定"
      ]
     },
     "execution_count": 12,
     "metadata": {},
     "output_type": "execute_result"
    }
   ],
   "source": [
    "dataset.iloc[[0,1]]"
   ]
  },
  {
   "cell_type": "code",
   "execution_count": 5,
   "id": "2ff837f2",
   "metadata": {},
   "outputs": [
    {
     "data": {
      "text/plain": [
       "{'人才激励', '政府采购', '财税扶持', '资质认定', '资金补贴', '赛事活动'}"
      ]
     },
     "execution_count": 5,
     "metadata": {},
     "output_type": "execute_result"
    }
   ],
   "source": [
    "set(dataset[\"new_label\"])"
   ]
  },
  {
   "cell_type": "code",
   "execution_count": null,
   "id": "7c6a93f4",
   "metadata": {},
   "outputs": [],
   "source": []
  },
  {
   "cell_type": "code",
   "execution_count": null,
   "id": "f1913dd3",
   "metadata": {},
   "outputs": [],
   "source": []
  },
  {
   "cell_type": "code",
   "execution_count": null,
   "id": "b9a59701",
   "metadata": {},
   "outputs": [],
   "source": []
  },
  {
   "cell_type": "code",
   "execution_count": null,
   "id": "3a28a490",
   "metadata": {},
   "outputs": [],
   "source": []
  },
  {
   "cell_type": "code",
   "execution_count": null,
   "id": "8ad62c10",
   "metadata": {},
   "outputs": [],
   "source": []
  },
  {
   "cell_type": "code",
   "execution_count": null,
   "id": "42ad35cf",
   "metadata": {},
   "outputs": [],
   "source": []
  },
  {
   "cell_type": "code",
   "execution_count": null,
   "id": "2e70aec3",
   "metadata": {},
   "outputs": [],
   "source": []
  },
  {
   "cell_type": "code",
   "execution_count": null,
   "id": "b93ccc3d",
   "metadata": {},
   "outputs": [],
   "source": []
  }
 ],
 "metadata": {
  "kernelspec": {
   "display_name": "Python 3",
   "language": "python",
   "name": "python3"
  },
  "language_info": {
   "codemirror_mode": {
    "name": "ipython",
    "version": 3
   },
   "file_extension": ".py",
   "mimetype": "text/x-python",
   "name": "python",
   "nbconvert_exporter": "python",
   "pygments_lexer": "ipython3",
   "version": "3.8.8"
  }
 },
 "nbformat": 4,
 "nbformat_minor": 5
}
