{
 "cells": [
  {
   "cell_type": "markdown",
   "id": "e363e326",
   "metadata": {},
   "source": [
    "# 基于关键词匹配的打标\n",
    "\n",
    "目前数据已经清洗完毕，算法写好了（大概）\n",
    "\n",
    "现在只需要把关键词部分填充完整，直到打标完成"
   ]
  },
  {
   "cell_type": "markdown",
   "id": "1039544d",
   "metadata": {},
   "source": [
    "## 读取数据\n"
   ]
  },
  {
   "cell_type": "code",
   "execution_count": 1,
   "id": "b81d1a06",
   "metadata": {},
   "outputs": [],
   "source": [
    "import openpyxl"
   ]
  },
  {
   "cell_type": "code",
   "execution_count": 2,
   "id": "7a85312f",
   "metadata": {},
   "outputs": [],
   "source": [
    "def load_xlsx_as_dataframe(filename):\n",
    "    import openpyxl\n",
    "    from pandas import DataFrame\n",
    "    book = openpyxl.load_workbook(filename)\n",
    "    sheet = book.active\n",
    "    data = []\n",
    "    for row in sheet.iter_rows(min_row=1, min_col=1, max_row=sheet.max_row, max_col=sheet.max_column):\n",
    "        row_data= [cell.value for cell in row]\n",
    "        data.append(row_data)\n",
    "    len(data)\n",
    "    header = data[0] # 第一行\n",
    "    content_data = data[1:]\n",
    "    dict_data = {header[i]:[row[i] for row in content_data]  for i in range(len(header))}\n",
    "    frame = DataFrame(dict_data)\n",
    "    return frame"
   ]
  },
  {
   "cell_type": "code",
   "execution_count": 3,
   "id": "6f34b940",
   "metadata": {},
   "outputs": [
    {
     "data": {
      "text/html": [
       "<div>\n",
       "<style scoped>\n",
       "    .dataframe tbody tr th:only-of-type {\n",
       "        vertical-align: middle;\n",
       "    }\n",
       "\n",
       "    .dataframe tbody tr th {\n",
       "        vertical-align: top;\n",
       "    }\n",
       "\n",
       "    .dataframe thead th {\n",
       "        text-align: right;\n",
       "    }\n",
       "</style>\n",
       "<table border=\"1\" class=\"dataframe\">\n",
       "  <thead>\n",
       "    <tr style=\"text-align: right;\">\n",
       "      <th></th>\n",
       "      <th>title</th>\n",
       "      <th>content</th>\n",
       "      <th>new_label</th>\n",
       "    </tr>\n",
       "  </thead>\n",
       "  <tbody>\n",
       "    <tr>\n",
       "      <th>0</th>\n",
       "      <td>内蒙古自治区发展和改革委员会关于公开2020年度本级和所属各单位决算信息的函</td>\n",
       "      <td>内蒙古自治区发展和改革委员会关于公开2020年度本级和所属各单位决算信息的函\\n来源：\\n内...</td>\n",
       "      <td>None</td>\n",
       "    </tr>\n",
       "    <tr>\n",
       "      <th>1</th>\n",
       "      <td>内蒙古自治区发展和改革委员会关于征求《内蒙古自治区关于加快推进快递包装绿色转型的若干措施（征...</td>\n",
       "      <td>内蒙古自治区发展和改革委员会关于征求《内蒙古自治区关于加快推进快递包装绿色转型的若干措施（征...</td>\n",
       "      <td>None</td>\n",
       "    </tr>\n",
       "    <tr>\n",
       "      <th>2</th>\n",
       "      <td>鄂尔多斯市蒙元煤炭有限公司点石沟铁路专用线项目核准咨询评估服务中标（成交）结果公告</td>\n",
       "      <td>鄂尔多斯市蒙元煤炭有限公司点石沟铁路专用线项目核准咨询评估服务中标（成交）结果公告\\n来源：...</td>\n",
       "      <td>None</td>\n",
       "    </tr>\n",
       "    <tr>\n",
       "      <th>3</th>\n",
       "      <td>新建内蒙古吉林郭勒矿区铁路专用线项目咨询评估服务中标（成交）结果公告</td>\n",
       "      <td>新建内蒙古吉林郭勒矿区铁路专用线项目咨询评估服务中标（成交）结果公告\\n来源：\\n内蒙古自治...</td>\n",
       "      <td>None</td>\n",
       "    </tr>\n",
       "    <tr>\n",
       "      <th>4</th>\n",
       "      <td>达拉特粮食综合物资仓储加工物流园铁路专用线项目咨询评估服务中标（成交）结果公告</td>\n",
       "      <td>达拉特粮食综合物资仓储加工物流园铁路专用线项目咨询评估服务中标（成交）结果公告\\n来源：\\n...</td>\n",
       "      <td>None</td>\n",
       "    </tr>\n",
       "    <tr>\n",
       "      <th>...</th>\n",
       "      <td>...</td>\n",
       "      <td>...</td>\n",
       "      <td>...</td>\n",
       "    </tr>\n",
       "    <tr>\n",
       "      <th>21270</th>\n",
       "      <td>关于外商投资企业分支机构办理注册税务登记及申报纳税地点问题的复函</td>\n",
       "      <td>2003年第50期（总第366期）\\n您现在的位置\\n政府公报\\n&gt;\\n2003年政府公报\\...</td>\n",
       "      <td>财税扶持</td>\n",
       "    </tr>\n",
       "    <tr>\n",
       "      <th>21271</th>\n",
       "      <td>关于新版纳税申报表使用范围补充规定的通知</td>\n",
       "      <td>2003年第50期（总第366期）\\n您现在的位置\\n政府公报\\n&gt;\\n2003年政府公报\\...</td>\n",
       "      <td>财税扶持</td>\n",
       "    </tr>\n",
       "    <tr>\n",
       "      <th>21272</th>\n",
       "      <td>关于组织推荐国家重点研发计划“海洋环境安全保障与岛礁可持续发展”重点专项2021年度项目申报的通知</td>\n",
       "      <td>&lt;!--&lt;$[信息内容]&gt;begin--&gt;各有关单位：根据科技部《关于发布国家重点研发计划“...</td>\n",
       "      <td>None</td>\n",
       "    </tr>\n",
       "    <tr>\n",
       "      <th>21273</th>\n",
       "      <td>北京市妇联等八部门关于印发《科技创新巾帼行动—北京行动》的通知</td>\n",
       "      <td>&lt;!--&lt;$[信息内容]&gt;begin--&gt;京妇发〔2021〕9号北京市妇联等八部门关于印发《...</td>\n",
       "      <td>None</td>\n",
       "    </tr>\n",
       "    <tr>\n",
       "      <th>21274</th>\n",
       "      <td>关于征集2021年度中关村知识产权质押融资风险补偿支持资金项目的通知</td>\n",
       "      <td>&lt;!--&lt;$[信息内容]&gt;begin--&gt;各有关单位：根据《关于建立实施中关村知识产权质押融...</td>\n",
       "      <td>None</td>\n",
       "    </tr>\n",
       "  </tbody>\n",
       "</table>\n",
       "<p>21275 rows × 3 columns</p>\n",
       "</div>"
      ],
      "text/plain": [
       "                                                   title  \\\n",
       "0                 内蒙古自治区发展和改革委员会关于公开2020年度本级和所属各单位决算信息的函   \n",
       "1      内蒙古自治区发展和改革委员会关于征求《内蒙古自治区关于加快推进快递包装绿色转型的若干措施（征...   \n",
       "2              鄂尔多斯市蒙元煤炭有限公司点石沟铁路专用线项目核准咨询评估服务中标（成交）结果公告   \n",
       "3                     新建内蒙古吉林郭勒矿区铁路专用线项目咨询评估服务中标（成交）结果公告   \n",
       "4                达拉特粮食综合物资仓储加工物流园铁路专用线项目咨询评估服务中标（成交）结果公告   \n",
       "...                                                  ...   \n",
       "21270                   关于外商投资企业分支机构办理注册税务登记及申报纳税地点问题的复函   \n",
       "21271                               关于新版纳税申报表使用范围补充规定的通知   \n",
       "21272  关于组织推荐国家重点研发计划“海洋环境安全保障与岛礁可持续发展”重点专项2021年度项目申报的通知   \n",
       "21273                    北京市妇联等八部门关于印发《科技创新巾帼行动—北京行动》的通知   \n",
       "21274                 关于征集2021年度中关村知识产权质押融资风险补偿支持资金项目的通知   \n",
       "\n",
       "                                                 content new_label  \n",
       "0      内蒙古自治区发展和改革委员会关于公开2020年度本级和所属各单位决算信息的函\\n来源：\\n内...      None  \n",
       "1      内蒙古自治区发展和改革委员会关于征求《内蒙古自治区关于加快推进快递包装绿色转型的若干措施（征...      None  \n",
       "2      鄂尔多斯市蒙元煤炭有限公司点石沟铁路专用线项目核准咨询评估服务中标（成交）结果公告\\n来源：...      None  \n",
       "3      新建内蒙古吉林郭勒矿区铁路专用线项目咨询评估服务中标（成交）结果公告\\n来源：\\n内蒙古自治...      None  \n",
       "4      达拉特粮食综合物资仓储加工物流园铁路专用线项目咨询评估服务中标（成交）结果公告\\n来源：\\n...      None  \n",
       "...                                                  ...       ...  \n",
       "21270  2003年第50期（总第366期）\\n您现在的位置\\n政府公报\\n>\\n2003年政府公报\\...      财税扶持  \n",
       "21271  2003年第50期（总第366期）\\n您现在的位置\\n政府公报\\n>\\n2003年政府公报\\...      财税扶持  \n",
       "21272  <!--<$[信息内容]>begin-->各有关单位：根据科技部《关于发布国家重点研发计划“...      None  \n",
       "21273  <!--<$[信息内容]>begin-->京妇发〔2021〕9号北京市妇联等八部门关于印发《...      None  \n",
       "21274  <!--<$[信息内容]>begin-->各有关单位：根据《关于建立实施中关村知识产权质押融...      None  \n",
       "\n",
       "[21275 rows x 3 columns]"
      ]
     },
     "execution_count": 3,
     "metadata": {},
     "output_type": "execute_result"
    }
   ],
   "source": [
    "frame = load_xlsx_as_dataframe('data.xlsx')\n",
    "frame"
   ]
  },
  {
   "cell_type": "markdown",
   "id": "a83bed2c",
   "metadata": {},
   "source": [
    "## 打标\n",
    "\n",
    "只需要填写label_json中的各个keywords即可。算法已经写好了"
   ]
  },
  {
   "cell_type": "code",
   "execution_count": 4,
   "id": "1365e579",
   "metadata": {
    "code_folding": [
     106
    ]
   },
   "outputs": [],
   "source": [
    "label_json = {\n",
    "  \"data\": [\n",
    "    {\n",
    "      \"name\": \"财税扶持\",\n",
    "      \"keywords\": [\n",
    "        \"产权合法\",\n",
    "        \"企业产品属于规定范围\",\n",
    "        \"企业研究方向\",\n",
    "        \"企业规模\",\n",
    "        \"场地面积\",\n",
    "        \"孵化服务的财务单独核算\",\n",
    "        \"无重大违法记录\",\n",
    "        \"独立法人\",\n",
    "        \"符合国家级科技企业孵化器条件\",\n",
    "        \"经营良好\"\n",
    "      ]\n",
    "    },\n",
    "    {\n",
    "      \"name\": \"资质认定\",\n",
    "      \"keywords\": [\n",
    "        \"专业人员数量\",\n",
    "        \"专业化程度\",\n",
    "        \"专利数量\",\n",
    "        \"交易额\",\n",
    "        \"企业规模\",\n",
    "        \"具有线下服务平台\",\n",
    "        \"创新能力\",\n",
    "        \"支持产权资源整合能力\",\n",
    "        \"是否联合体投标\",\n",
    "        \"服务内容明确\",\n",
    "        \"注册地区\",\n",
    "        \"注册资本\",\n",
    "        \"点击量\",\n",
    "        \"版权明确\",\n",
    "        \"独立法人\",\n",
    "        \"相关部门推荐\",\n",
    "        \"经营良好\",\n",
    "        \"经过相关部门认定资质\",\n",
    "        \"辖区企业数量\",\n",
    "        \"项目主题符合要求\",\n",
    "        \"受到行政处罚\",\n",
    "        \"渠道列入失信被执行人\",\n",
    "        \"重大事故记录\"\n",
    "      ]\n",
    "    },\n",
    "    {\n",
    "      \"name\": \"资金补贴\",\n",
    "      \"keywords\": [\n",
    "        \"无不良信用记录\",\n",
    "        \"注册时长\",\n",
    "        \"独立法人\",\n",
    "        \"经营时长\",\n",
    "        \"融资担保经营许可证\",\n",
    "        \"受到行政处罚\",\n",
    "        \"渠道列入失信被执行人\",\n",
    "        \"获得类似政策支持\"\n",
    "      ]\n",
    "    },\n",
    "    {\n",
    "      \"name\": \"人才激励\",\n",
    "      \"keywords\": [\n",
    "        \"专业化程度\",\n",
    "        \"独立法人\",\n",
    "        \"相关软硬件设施\",\n",
    "        \"结构和制度完善\",\n",
    "        \"良好社会记录\"\n",
    "      ]\n",
    "    },\n",
    "    {\n",
    "      \"name\": \"课题项目\",\n",
    "      \"keywords\": [\n",
    "        \"专业化程度\",\n",
    "        \"无重大违法记录\",\n",
    "        \"机关人员不得申报\",\n",
    "        \"点击量\",\n",
    "        \"版权明确\",\n",
    "        \"独立法人\",\n",
    "        \"独立财务管理\",\n",
    "        \"相关部门推荐\",\n",
    "        \"负责人资质\",\n",
    "        \"项目主题符合要求\"\n",
    "      ]\n",
    "    },\n",
    "    {\n",
    "      \"name\": \"政府采购\",\n",
    "      \"keywords\": [\n",
    "        \"不允许采购进口产品\",\n",
    "        \"不接受公益一类事业单位投标\",\n",
    "        \"企业规模\",\n",
    "        \"无重大违法记录\",\n",
    "        \"是否联合体投标\",\n",
    "        \"铁路专业工程咨询甲级资信证书\",\n",
    "        \"政府采购严重违法失信行为记录名单\",\n",
    "        \"渠道列入失信被执行人\",\n",
    "        \"重大税收违法案件当事人名单\"\n",
    "      ]\n",
    "    },\n",
    "    {\n",
    "      \"name\": \"赛事活动\",\n",
    "      \"keywords\": [\n",
    "        \"活动主题\",\n",
    "        \"活动人数\",\n",
    "        \"活动场次\",\n",
    "        \"相关软硬件设施\",\n",
    "        \"相关部门推荐\"\n",
    "      ]\n",
    "    }\n",
    "  ]\n",
    "}\n",
    "\n",
    "label_data = label_json[\"data\"]"
   ]
  },
  {
   "cell_type": "code",
   "execution_count": 5,
   "id": "e3c1d08e",
   "metadata": {
    "code_folding": [
     5,
     41,
     119,
     152,
     173,
     209,
     245
    ]
   },
   "outputs": [],
   "source": [
    "def similar(label, content: str) -> bool:\n",
    "    keywords = label[\"keywords\"]\n",
    "    \n",
    "    for k in keywords:\n",
    "        if k in content:\n",
    "            return True\n",
    "    return False\n",
    "\n",
    "\n",
    "def predict(text: str) -> str:\n",
    "    for label in label_data:\n",
    "        if similar(label, text):\n",
    "            return label[\"name\"]\n",
    "    return None"
   ]
  },
  {
   "cell_type": "code",
   "execution_count": 6,
   "id": "8bf68c60",
   "metadata": {},
   "outputs": [
    {
     "data": {
      "text/plain": [
       "13632"
      ]
     },
     "execution_count": 6,
     "metadata": {},
     "output_type": "execute_result"
    }
   ],
   "source": [
    "todo_rows_count = len(frame[frame[\"new_label\"].isnull()])\n",
    "todo_rows_count"
   ]
  },
  {
   "cell_type": "code",
   "execution_count": 10,
   "id": "e091a61b",
   "metadata": {},
   "outputs": [
    {
     "data": {
      "text/plain": [
       "12280"
      ]
     },
     "execution_count": 10,
     "metadata": {},
     "output_type": "execute_result"
    }
   ],
   "source": [
    "# 打标\n",
    "missing_rows_count = 0\n",
    "for i in range(len(frame)):\n",
    "    row = frame.iloc[i]\n",
    "    if row[\"new_label\"] is not None:\n",
    "        continue\n",
    "    content = row[\"content\"]\n",
    "    if content is None:\n",
    "        # 清洗后可能没有内容，如这行数据： 9794 最全！一图读懂2020年《政府工作报告》\n",
    "        content = \"\"\n",
    "    label = predict(content)\n",
    "    if label is None:\n",
    "        missing_rows_count += 1\n",
    "        continue\n",
    "    continue\n",
    "    row[\"new_label\"] = label\n",
    "missing_rows_count"
   ]
  },
  {
   "cell_type": "markdown",
   "id": "704d5627",
   "metadata": {},
   "source": [
    "## 保存\n",
    "\n",
    "打完标后保存"
   ]
  },
  {
   "cell_type": "code",
   "execution_count": 11,
   "id": "92a03565",
   "metadata": {},
   "outputs": [],
   "source": [
    "def dataframe_to_xlsx(frame):\n",
    "    from openpyxl import Workbook\n",
    "    new_book = Workbook()\n",
    "    new_sheet = new_book.active\n",
    "    cols_names = list(frame.columns)\n",
    "    new_sheet.append(cols_names)\n",
    "    for i in range(len(frame)):\n",
    "        sheet_row = [frame.iloc[i][name] for name in cols_names]\n",
    "        new_sheet.append(sheet_row)\n",
    "    # new_book.save(\"sample.xlsx\")\n",
    "    return new_book"
   ]
  },
  {
   "cell_type": "code",
   "execution_count": 15,
   "id": "8091d4da",
   "metadata": {},
   "outputs": [],
   "source": [
    "new_book = dataframe_to_xlsx(frame)\n",
    "new_book.save(\"complete.xlsx\")"
   ]
  },
  {
   "cell_type": "code",
   "execution_count": null,
   "id": "67aeb3dc",
   "metadata": {},
   "outputs": [],
   "source": []
  },
  {
   "cell_type": "code",
   "execution_count": null,
   "id": "ee3abcea",
   "metadata": {},
   "outputs": [],
   "source": []
  },
  {
   "cell_type": "code",
   "execution_count": null,
   "id": "a72ddd9f",
   "metadata": {},
   "outputs": [],
   "source": []
  },
  {
   "cell_type": "code",
   "execution_count": null,
   "id": "9e045250",
   "metadata": {},
   "outputs": [],
   "source": []
  },
  {
   "cell_type": "code",
   "execution_count": null,
   "id": "4e6f772c",
   "metadata": {},
   "outputs": [],
   "source": []
  },
  {
   "cell_type": "code",
   "execution_count": null,
   "id": "c1e53cac",
   "metadata": {},
   "outputs": [],
   "source": []
  },
  {
   "cell_type": "code",
   "execution_count": null,
   "id": "93e133cd",
   "metadata": {},
   "outputs": [],
   "source": []
  },
  {
   "cell_type": "code",
   "execution_count": null,
   "id": "62c01a8a",
   "metadata": {},
   "outputs": [],
   "source": []
  },
  {
   "cell_type": "code",
   "execution_count": null,
   "id": "33730bbf",
   "metadata": {},
   "outputs": [],
   "source": []
  }
 ],
 "metadata": {
  "kernelspec": {
   "display_name": "Python 3",
   "language": "python",
   "name": "python3"
  },
  "language_info": {
   "codemirror_mode": {
    "name": "ipython",
    "version": 3
   },
   "file_extension": ".py",
   "mimetype": "text/x-python",
   "name": "python",
   "nbconvert_exporter": "python",
   "pygments_lexer": "ipython3",
   "version": "3.8.8"
  }
 },
 "nbformat": 4,
 "nbformat_minor": 5
}
